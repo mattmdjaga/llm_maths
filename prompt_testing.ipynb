{
 "cells": [
  {
   "cell_type": "code",
   "execution_count": 15,
   "metadata": {},
   "outputs": [
    {
     "data": {
      "text/plain": [
       "StableLMEpochForCausalLM(\n",
       "  (model): StableLMEpochModel(\n",
       "    (embed_tokens): Embedding(50304, 2560)\n",
       "    (layers): ModuleList(\n",
       "      (0-31): 32 x DecoderLayer(\n",
       "        (self_attn): Attention(\n",
       "          (q_proj): Linear(in_features=2560, out_features=2560, bias=False)\n",
       "          (k_proj): Linear(in_features=2560, out_features=2560, bias=False)\n",
       "          (v_proj): Linear(in_features=2560, out_features=2560, bias=False)\n",
       "          (o_proj): Linear(in_features=2560, out_features=2560, bias=False)\n",
       "          (rotary_emb): RotaryEmbedding()\n",
       "        )\n",
       "        (mlp): MLP(\n",
       "          (gate_proj): Linear(in_features=2560, out_features=6912, bias=False)\n",
       "          (up_proj): Linear(in_features=2560, out_features=6912, bias=False)\n",
       "          (down_proj): Linear(in_features=6912, out_features=2560, bias=False)\n",
       "          (act_fn): SiLU()\n",
       "        )\n",
       "        (input_layernorm): LayerNorm((2560,), eps=1e-05, elementwise_affine=True)\n",
       "        (post_attention_layernorm): LayerNorm((2560,), eps=1e-05, elementwise_affine=True)\n",
       "      )\n",
       "    )\n",
       "    (norm): LayerNorm((2560,), eps=1e-05, elementwise_affine=True)\n",
       "  )\n",
       "  (lm_head): Linear(in_features=2560, out_features=50304, bias=False)\n",
       ")"
      ]
     },
     "execution_count": 15,
     "metadata": {},
     "output_type": "execute_result"
    }
   ],
   "source": [
    "from transformers import AutoModelForCausalLM, AutoTokenizer\n",
    "import torch\n",
    "\n",
    "device = \"cuda:0\"\n",
    "tokenizer = AutoTokenizer.from_pretrained(\"stabilityai/stablelm-3b-4e1t\")\n",
    "model = AutoModelForCausalLM.from_pretrained(\n",
    "  \"stabilityai/stablelm-3b-4e1t\",\n",
    "  trust_remote_code=True,\n",
    "  torch_dtype=torch.float16,\n",
    ")\n",
    "model.to(device)"
   ]
  },
  {
   "cell_type": "code",
   "execution_count": 5,
   "metadata": {},
   "outputs": [],
   "source": [
    "def zero_padding_multiplicatn(num_1: int, num_2: int, padding_size: int = 0, reverse: bool = False) -> str:\n",
    "    num_1 = str(num_1)\n",
    "    num_2 = str(num_2)\n",
    "    answer = int(num_1) * int(num_2)\n",
    "    num_1 = \"0\" * (padding_size - len(num_1)) + num_1 if padding_size else num_1\n",
    "    num_2 = \"0\" * (padding_size - len(num_2)) + num_2 if padding_size else num_2\n",
    "    answer = str(answer).reverse() if reverse else str(answer)\n",
    "    answer = \"0\" * (padding_size - len(answer)) + answer if padding_size else answer\n",
    "    return f\"{num_1} * {num_2} = {answer}\""
   ]
  },
  {
   "cell_type": "code",
   "execution_count": 8,
   "metadata": {},
   "outputs": [
    {
     "data": {
      "text/plain": [
       "'123 * 456 = 56088'"
      ]
     },
     "execution_count": 8,
     "metadata": {},
     "output_type": "execute_result"
    }
   ],
   "source": [
    "zero_padding_multiplicatn(123, 456, 0)"
   ]
  },
  {
   "cell_type": "code",
   "execution_count": 2,
   "metadata": {},
   "outputs": [
    {
     "data": {
      "text/plain": [
       "(9801, 10000)"
      ]
     },
     "execution_count": 2,
     "metadata": {},
     "output_type": "execute_result"
    }
   ],
   "source": [
    "99**2, 100**2"
   ]
  },
  {
   "cell_type": "code",
   "execution_count": 22,
   "metadata": {},
   "outputs": [
    {
     "name": "stdout",
     "output_type": "stream",
     "text": [
      "04 * 09 = 36\n",
      "02 * 02 = 04\n",
      "04 * 06 = 24\n",
      "01 * 09 = 09\n",
      "00 * 02 = 00\n"
     ]
    }
   ],
   "source": [
    "import random\n",
    "\n",
    "max_num = 9\n",
    "max_num_len = len(str(max_num**2))\n",
    "eval_examples_padded = []\n",
    "for i in range(1, max_num + 1):\n",
    "    for j in range(1, max_num + 1):\n",
    "        eval_examples_padded.append(zero_padding_multiplicatn(i, j, max_num_len))\n",
    "\n",
    "eval_examples_base = []\n",
    "for i in range(1, max_num + 1):\n",
    "    for j in range(1, max_num + 1):\n",
    "        eval_examples_base.append(f\"{i} * {j} = {i * j}\")\n",
    "    \n",
    "few_shot_examples = []\n",
    "few_shot_num = 5\n",
    "for _ in range(few_shot_num):\n",
    "    num_1 = random.randint(0, max_num)\n",
    "    num_2 = random.randint(0, max_num)\n",
    "    few_shot_examples.append(zero_padding_multiplicatn(num_1, num_2, max_num_len))\n",
    "prompt = \"\\n\".join(few_shot_examples)\n",
    "print(prompt)"
   ]
  },
  {
   "cell_type": "code",
   "execution_count": 14,
   "metadata": {},
   "outputs": [
    {
     "data": {
      "text/plain": [
       "['01 * 01 = 01',\n",
       " '01 * 02 = 02',\n",
       " '01 * 03 = 03',\n",
       " '01 * 04 = 04',\n",
       " '01 * 05 = 05',\n",
       " '01 * 06 = 06',\n",
       " '01 * 07 = 07',\n",
       " '01 * 08 = 08',\n",
       " '01 * 09 = 09',\n",
       " '02 * 01 = 02',\n",
       " '02 * 02 = 04',\n",
       " '02 * 03 = 06',\n",
       " '02 * 04 = 08',\n",
       " '02 * 05 = 10',\n",
       " '02 * 06 = 12',\n",
       " '02 * 07 = 14',\n",
       " '02 * 08 = 16',\n",
       " '02 * 09 = 18',\n",
       " '03 * 01 = 03',\n",
       " '03 * 02 = 06',\n",
       " '03 * 03 = 09',\n",
       " '03 * 04 = 12',\n",
       " '03 * 05 = 15',\n",
       " '03 * 06 = 18',\n",
       " '03 * 07 = 21',\n",
       " '03 * 08 = 24',\n",
       " '03 * 09 = 27',\n",
       " '04 * 01 = 04',\n",
       " '04 * 02 = 08',\n",
       " '04 * 03 = 12',\n",
       " '04 * 04 = 16',\n",
       " '04 * 05 = 20',\n",
       " '04 * 06 = 24',\n",
       " '04 * 07 = 28',\n",
       " '04 * 08 = 32',\n",
       " '04 * 09 = 36',\n",
       " '05 * 01 = 05',\n",
       " '05 * 02 = 10',\n",
       " '05 * 03 = 15',\n",
       " '05 * 04 = 20',\n",
       " '05 * 05 = 25',\n",
       " '05 * 06 = 30',\n",
       " '05 * 07 = 35',\n",
       " '05 * 08 = 40',\n",
       " '05 * 09 = 45',\n",
       " '06 * 01 = 06',\n",
       " '06 * 02 = 12',\n",
       " '06 * 03 = 18',\n",
       " '06 * 04 = 24',\n",
       " '06 * 05 = 30',\n",
       " '06 * 06 = 36',\n",
       " '06 * 07 = 42',\n",
       " '06 * 08 = 48',\n",
       " '06 * 09 = 54',\n",
       " '07 * 01 = 07',\n",
       " '07 * 02 = 14',\n",
       " '07 * 03 = 21',\n",
       " '07 * 04 = 28',\n",
       " '07 * 05 = 35',\n",
       " '07 * 06 = 42',\n",
       " '07 * 07 = 49',\n",
       " '07 * 08 = 56',\n",
       " '07 * 09 = 63',\n",
       " '08 * 01 = 08',\n",
       " '08 * 02 = 16',\n",
       " '08 * 03 = 24',\n",
       " '08 * 04 = 32',\n",
       " '08 * 05 = 40',\n",
       " '08 * 06 = 48',\n",
       " '08 * 07 = 56',\n",
       " '08 * 08 = 64',\n",
       " '08 * 09 = 72',\n",
       " '09 * 01 = 09',\n",
       " '09 * 02 = 18',\n",
       " '09 * 03 = 27',\n",
       " '09 * 04 = 36',\n",
       " '09 * 05 = 45',\n",
       " '09 * 06 = 54',\n",
       " '09 * 07 = 63',\n",
       " '09 * 08 = 72',\n",
       " '09 * 09 = 81',\n",
       " '01 * 01 = 01',\n",
       " '01 * 02 = 02',\n",
       " '01 * 03 = 03',\n",
       " '01 * 04 = 04',\n",
       " '01 * 05 = 05',\n",
       " '01 * 06 = 06',\n",
       " '01 * 07 = 07',\n",
       " '01 * 08 = 08',\n",
       " '01 * 09 = 09',\n",
       " '02 * 01 = 02',\n",
       " '02 * 02 = 04',\n",
       " '02 * 03 = 06',\n",
       " '02 * 04 = 08',\n",
       " '02 * 05 = 10',\n",
       " '02 * 06 = 12',\n",
       " '02 * 07 = 14',\n",
       " '02 * 08 = 16',\n",
       " '02 * 09 = 18',\n",
       " '03 * 01 = 03',\n",
       " '03 * 02 = 06',\n",
       " '03 * 03 = 09',\n",
       " '03 * 04 = 12',\n",
       " '03 * 05 = 15',\n",
       " '03 * 06 = 18',\n",
       " '03 * 07 = 21',\n",
       " '03 * 08 = 24',\n",
       " '03 * 09 = 27',\n",
       " '04 * 01 = 04',\n",
       " '04 * 02 = 08',\n",
       " '04 * 03 = 12',\n",
       " '04 * 04 = 16',\n",
       " '04 * 05 = 20',\n",
       " '04 * 06 = 24',\n",
       " '04 * 07 = 28',\n",
       " '04 * 08 = 32',\n",
       " '04 * 09 = 36',\n",
       " '05 * 01 = 05',\n",
       " '05 * 02 = 10',\n",
       " '05 * 03 = 15',\n",
       " '05 * 04 = 20',\n",
       " '05 * 05 = 25',\n",
       " '05 * 06 = 30',\n",
       " '05 * 07 = 35',\n",
       " '05 * 08 = 40',\n",
       " '05 * 09 = 45',\n",
       " '06 * 01 = 06',\n",
       " '06 * 02 = 12',\n",
       " '06 * 03 = 18',\n",
       " '06 * 04 = 24',\n",
       " '06 * 05 = 30',\n",
       " '06 * 06 = 36',\n",
       " '06 * 07 = 42',\n",
       " '06 * 08 = 48',\n",
       " '06 * 09 = 54',\n",
       " '07 * 01 = 07',\n",
       " '07 * 02 = 14',\n",
       " '07 * 03 = 21',\n",
       " '07 * 04 = 28',\n",
       " '07 * 05 = 35',\n",
       " '07 * 06 = 42',\n",
       " '07 * 07 = 49',\n",
       " '07 * 08 = 56',\n",
       " '07 * 09 = 63',\n",
       " '08 * 01 = 08',\n",
       " '08 * 02 = 16',\n",
       " '08 * 03 = 24',\n",
       " '08 * 04 = 32',\n",
       " '08 * 05 = 40',\n",
       " '08 * 06 = 48',\n",
       " '08 * 07 = 56',\n",
       " '08 * 08 = 64',\n",
       " '08 * 09 = 72',\n",
       " '09 * 01 = 09',\n",
       " '09 * 02 = 18',\n",
       " '09 * 03 = 27',\n",
       " '09 * 04 = 36',\n",
       " '09 * 05 = 45',\n",
       " '09 * 06 = 54',\n",
       " '09 * 07 = 63',\n",
       " '09 * 08 = 72',\n",
       " '09 * 09 = 81',\n",
       " '01 * 01 = 01',\n",
       " '01 * 02 = 02',\n",
       " '01 * 03 = 03',\n",
       " '01 * 04 = 04',\n",
       " '01 * 05 = 05',\n",
       " '01 * 06 = 06',\n",
       " '01 * 07 = 07',\n",
       " '01 * 08 = 08',\n",
       " '01 * 09 = 09',\n",
       " '02 * 01 = 02',\n",
       " '02 * 02 = 04',\n",
       " '02 * 03 = 06',\n",
       " '02 * 04 = 08',\n",
       " '02 * 05 = 10',\n",
       " '02 * 06 = 12',\n",
       " '02 * 07 = 14',\n",
       " '02 * 08 = 16',\n",
       " '02 * 09 = 18',\n",
       " '03 * 01 = 03',\n",
       " '03 * 02 = 06',\n",
       " '03 * 03 = 09',\n",
       " '03 * 04 = 12',\n",
       " '03 * 05 = 15',\n",
       " '03 * 06 = 18',\n",
       " '03 * 07 = 21',\n",
       " '03 * 08 = 24',\n",
       " '03 * 09 = 27',\n",
       " '04 * 01 = 04',\n",
       " '04 * 02 = 08',\n",
       " '04 * 03 = 12',\n",
       " '04 * 04 = 16',\n",
       " '04 * 05 = 20',\n",
       " '04 * 06 = 24',\n",
       " '04 * 07 = 28',\n",
       " '04 * 08 = 32',\n",
       " '04 * 09 = 36',\n",
       " '05 * 01 = 05',\n",
       " '05 * 02 = 10',\n",
       " '05 * 03 = 15',\n",
       " '05 * 04 = 20',\n",
       " '05 * 05 = 25',\n",
       " '05 * 06 = 30',\n",
       " '05 * 07 = 35',\n",
       " '05 * 08 = 40',\n",
       " '05 * 09 = 45',\n",
       " '06 * 01 = 06',\n",
       " '06 * 02 = 12',\n",
       " '06 * 03 = 18',\n",
       " '06 * 04 = 24',\n",
       " '06 * 05 = 30',\n",
       " '06 * 06 = 36',\n",
       " '06 * 07 = 42',\n",
       " '06 * 08 = 48',\n",
       " '06 * 09 = 54',\n",
       " '07 * 01 = 07',\n",
       " '07 * 02 = 14',\n",
       " '07 * 03 = 21',\n",
       " '07 * 04 = 28',\n",
       " '07 * 05 = 35',\n",
       " '07 * 06 = 42',\n",
       " '07 * 07 = 49',\n",
       " '07 * 08 = 56',\n",
       " '07 * 09 = 63',\n",
       " '08 * 01 = 08',\n",
       " '08 * 02 = 16',\n",
       " '08 * 03 = 24',\n",
       " '08 * 04 = 32',\n",
       " '08 * 05 = 40',\n",
       " '08 * 06 = 48',\n",
       " '08 * 07 = 56',\n",
       " '08 * 08 = 64',\n",
       " '08 * 09 = 72',\n",
       " '09 * 01 = 09',\n",
       " '09 * 02 = 18',\n",
       " '09 * 03 = 27',\n",
       " '09 * 04 = 36',\n",
       " '09 * 05 = 45',\n",
       " '09 * 06 = 54',\n",
       " '09 * 07 = 63',\n",
       " '09 * 08 = 72',\n",
       " '09 * 09 = 81']"
      ]
     },
     "execution_count": 14,
     "metadata": {},
     "output_type": "execute_result"
    }
   ],
   "source": [
    "eval_examples"
   ]
  },
  {
   "cell_type": "code",
   "execution_count": 28,
   "metadata": {},
   "outputs": [
    {
     "data": {
      "text/plain": [
       "'12'"
      ]
     },
     "execution_count": 28,
     "metadata": {},
     "output_type": "execute_result"
    }
   ],
   "source": [
    "eval_examples[0][-max_num_len:]"
   ]
  },
  {
   "cell_type": "code",
   "execution_count": 16,
   "metadata": {},
   "outputs": [],
   "source": [
    "from transformers.utils import logging\n",
    "\n",
    "logging.set_verbosity_error()"
   ]
  },
  {
   "cell_type": "code",
   "execution_count": 21,
   "metadata": {},
   "outputs": [
    {
     "data": {
      "text/plain": [
       "243"
      ]
     },
     "execution_count": 21,
     "metadata": {},
     "output_type": "execute_result"
    }
   ],
   "source": [
    "len(eval_examples)"
   ]
  },
  {
   "cell_type": "code",
   "execution_count": 46,
   "metadata": {},
   "outputs": [
    {
     "name": "stderr",
     "output_type": "stream",
     "text": [
      "100%|██████████| 8/8 [00:12<00:00,  1.57s/it]"
     ]
    },
    {
     "name": "stdout",
     "output_type": "stream",
     "text": [
      "Accuracy: 0.9753086419753086\n"
     ]
    },
    {
     "name": "stderr",
     "output_type": "stream",
     "text": [
      "\n"
     ]
    }
   ],
   "source": [
    "from tqdm import tqdm\n",
    "answers = []\n",
    "batch_size = 32\n",
    "for i in tqdm(range(0, len(eval_examples), batch_size)):\n",
    "    queries = eval_examples[i:i+batch_size]\n",
    "    test_prompts = [prompt + \"\\n\" + query[:-max_num_len-1] for query in queries]\n",
    "    truths = [query[-max_num_len:] for query in queries]\n",
    "\n",
    "    inputs = tokenizer(test_prompts, return_tensors=\"pt\").input_ids.to(device)\n",
    "    outputs = model.generate(inputs, max_length=64, do_sample=False)\n",
    "    prediction = tokenizer.batch_decode(outputs, skip_special_tokens=True)#[len(test_prompt)+1:len(test_prompt)+1+max_num_len]\n",
    "    predictions = [p[len(test_prompts[0])+1:len(test_prompts[0])+1+max_num_len] for p in prediction]\n",
    "    for prediction, truth in zip(predictions, truths):\n",
    "        answers.append(int(prediction == truth))\n",
    "    #print(f\"Test Prompt: {example}\")\n",
    "    #print(f\"Prediction: {prediction}\")\n",
    "    #print(f\"Truth: {truth}\")\n",
    "    #answers.append(int(prediction == truth))\n",
    "print(f\"Accuracy: {sum(answers)/len(answers)}\")"
   ]
  },
  {
   "cell_type": "code",
   "execution_count": null,
   "metadata": {},
   "outputs": [],
   "source": [
    "tokenizer.bat"
   ]
  },
  {
   "cell_type": "code",
   "execution_count": 37,
   "metadata": {},
   "outputs": [],
   "source": [
    "prediction = tokenizer.batch_decode(outputs, skip_special_tokens=True)"
   ]
  },
  {
   "cell_type": "code",
   "execution_count": 39,
   "metadata": {},
   "outputs": [
    {
     "data": {
      "text/plain": [
       "['04 * 09 = 36\\n02 * 02 = 04\\n04 * 06 = 24\\n01 * 09 = 09\\n00 * 02 = 00\\n01 * 01 = 01\\n02 * 02 = 04\\n03 * 03 = 09\\n04 * 04 = 16\\n05 * 05 = 25\\n06 * 06 =',\n",
       " '04 * 09 = 36\\n02 * 02 = 04\\n04 * 06 = 24\\n01 * 09 = 09\\n00 * 02 = 00\\n01 * 02 = 02\\n02 * 06 = 12\\n00 * 09 = 00\\n01 * 09 = 09\\n02 * 02 = 04\\n04 * 06 =',\n",
       " '04 * 09 = 36\\n02 * 02 = 04\\n04 * 06 = 24\\n01 * 09 = 09\\n00 * 02 = 00\\n01 * 03 = 03\\n02 * 04 = 08\\n03 * 05 = 15\\n04 * 06 = 24\\n05 * 07 = 35\\n06 * 08 =',\n",
       " '04 * 09 = 36\\n02 * 02 = 04\\n04 * 06 = 24\\n01 * 09 = 09\\n00 * 02 = 00\\n01 * 04 = 04\\n02 * 06 = 12\\n03 * 09 = 27\\n04 * 02 = 08\\n05 * 04 = 20\\n06 * 06 =',\n",
       " '04 * 09 = 36\\n02 * 02 = 04\\n04 * 06 = 24\\n01 * 09 = 09\\n00 * 02 = 00\\n01 * 05 = 05\\n02 * 06 = 12\\n03 * 07 = 21\\n04 * 08 = 32\\n05 * 09 = 45\\n06 * 10 =',\n",
       " '04 * 09 = 36\\n02 * 02 = 04\\n04 * 06 = 24\\n01 * 09 = 09\\n00 * 02 = 00\\n01 * 06 = 06\\n02 * 09 = 18\\n03 * 04 = 12\\n04 * 06 = 24\\n05 * 09 = 45\\n06 * 02 =',\n",
       " '04 * 09 = 36\\n02 * 02 = 04\\n04 * 06 = 24\\n01 * 09 = 09\\n00 * 02 = 00\\n01 * 07 = 07\\n02 * 08 = 16\\n03 * 09 = 27\\n04 * 10 = 40\\n05 * 11 = 55\\n06 * 12 =',\n",
       " '04 * 09 = 36\\n02 * 02 = 04\\n04 * 06 = 24\\n01 * 09 = 09\\n00 * 02 = 00\\n01 * 08 = 09\\n02 * 06 = 12\\n03 * 04 = 12\\n04 * 08 = 32\\n05 * 06 = 30\\n06 * 04 =',\n",
       " '04 * 09 = 36\\n02 * 02 = 04\\n04 * 06 = 24\\n01 * 09 = 09\\n00 * 02 = 00\\n01 * 09 = 09\\n00 * 02 = 00\\n01 * 09 = 09\\n00 * 02 = 00\\n01 * 09 = 09\\n00 * 02 =',\n",
       " '04 * 09 = 36\\n02 * 02 = 04\\n04 * 06 = 24\\n01 * 09 = 09\\n00 * 02 = 00\\n02 * 01 = 02\\n01 * 04 = 04\\n04 * 06 = 24\\n00 * 09 = 00\\n01 * 02 = 03\\n02 * 01 =',\n",
       " '04 * 09 = 36\\n02 * 02 = 04\\n04 * 06 = 24\\n01 * 09 = 09\\n00 * 02 = 00\\n02 * 02 = 04\\n04 * 06 = 24\\n01 * 09 = 09\\n00 * 02 = 00\\n02 * 02 = 04\\n04 * 06 =',\n",
       " '04 * 09 = 36\\n02 * 02 = 04\\n04 * 06 = 24\\n01 * 09 = 09\\n00 * 02 = 00\\n02 * 03 = 06\\n03 * 06 = 18\\n01 * 09 = 09\\n00 * 02 = 00\\n02 * 03 = 06\\n03 * 06 =',\n",
       " '04 * 09 = 36\\n02 * 02 = 04\\n04 * 06 = 24\\n01 * 09 = 09\\n00 * 02 = 00\\n02 * 04 = 08\\n04 * 06 = 24\\n01 * 09 = 09\\n00 * 02 = 00\\n02 * 04 = 08\\n04 * 06 =',\n",
       " '04 * 09 = 36\\n02 * 02 = 04\\n04 * 06 = 24\\n01 * 09 = 09\\n00 * 02 = 00\\n02 * 05 = 10\\n05 * 06 = 30\\n01 * 09 = 09\\n00 * 02 = 00\\n02 * 05 = 10\\n05 * 06 =',\n",
       " '04 * 09 = 36\\n02 * 02 = 04\\n04 * 06 = 24\\n01 * 09 = 09\\n00 * 02 = 00\\n02 * 06 = 12\\n04 * 09 = 36\\n01 * 02 = 02\\n00 * 06 = 00\\n02 * 09 = 18\\n04 * 12 =',\n",
       " '04 * 09 = 36\\n02 * 02 = 04\\n04 * 06 = 24\\n01 * 09 = 09\\n00 * 02 = 00\\n02 * 07 = 14\\n04 * 08 = 32\\n01 * 09 = 09\\n00 * 02 = 00\\n02 * 07 = 14\\n04 * 08 =',\n",
       " '04 * 09 = 36\\n02 * 02 = 04\\n04 * 06 = 24\\n01 * 09 = 09\\n00 * 02 = 00\\n02 * 08 = 16\\n00 * 04 = 00\\n04 * 02 = 08\\n00 * 06 = 00\\n06 * 04 = 24\\n00 * 02 =',\n",
       " '04 * 09 = 36\\n02 * 02 = 04\\n04 * 06 = 24\\n01 * 09 = 09\\n00 * 02 = 00\\n02 * 09 = 18\\n00 * 06 = 00\\n00 * 04 = 00\\n00 * 04 = 00\\n00 * 06 = 00\\n00 * 02 =',\n",
       " '04 * 09 = 36\\n02 * 02 = 04\\n04 * 06 = 24\\n01 * 09 = 09\\n00 * 02 = 00\\n03 * 01 = 03\\n03 * 06 = 18\\n01 * 09 = 09\\n00 * 02 = 00\\n02 * 06 = 12\\n01 * 09 =',\n",
       " '04 * 09 = 36\\n02 * 02 = 04\\n04 * 06 = 24\\n01 * 09 = 09\\n00 * 02 = 00\\n03 * 02 = 06\\n06 * 06 = 36\\n\\nSo, the answer is 36.\\n\\nA: You can use the following formula:\\n\\n*',\n",
       " '04 * 09 = 36\\n02 * 02 = 04\\n04 * 06 = 24\\n01 * 09 = 09\\n00 * 02 = 00\\n03 * 03 = 09\\n05 * 05 = 25\\n06 * 06 = 36\\n07 * 07 = 49\\n08 * 08 = 64\\n09 * 09 =',\n",
       " '04 * 09 = 36\\n02 * 02 = 04\\n04 * 06 = 24\\n01 * 09 = 09\\n00 * 02 = 00\\n03 * 04 = 12\\n05 * 06 = 30\\n01 * 09 = 09\\n00 * 02 = 00\\n02 * 04 = 08\\n04 * 06 =',\n",
       " '04 * 09 = 36\\n02 * 02 = 04\\n04 * 06 = 24\\n01 * 09 = 09\\n00 * 02 = 00\\n03 * 05 = 15\\n05 * 07 = 35\\n01 * 08 = 01\\n04 * 09 = 36\\n02 * 02 = 04\\n04 * 06 =',\n",
       " '04 * 09 = 36\\n02 * 02 = 04\\n04 * 06 = 24\\n01 * 09 = 09\\n00 * 02 = 00\\n03 * 06 = 18\\n01 * 09 = 10\\n00 * 02 = 00\\n02 * 06 = 12\\n01 * 09 = 09\\n00 * 02 =',\n",
       " '04 * 09 = 36\\n02 * 02 = 04\\n04 * 06 = 24\\n01 * 09 = 09\\n00 * 02 = 00\\n03 * 07 = 21\\n01 * 08 = 09\\n05 * 05 = 25\\n02 * 06 = 12\\n06 * 03 = 18\\n04 * 04 =',\n",
       " '04 * 09 = 36\\n02 * 02 = 04\\n04 * 06 = 24\\n01 * 09 = 09\\n00 * 02 = 00\\n03 * 08 = 24\\n05 * 06 = 30\\n01 * 09 = 09\\n00 * 02 = 00\\n02 * 08 = 16\\n04 * 06 =',\n",
       " '04 * 09 = 36\\n02 * 02 = 04\\n04 * 06 = 24\\n01 * 09 = 09\\n00 * 02 = 00\\n03 * 09 = 27\\n05 * 06 = 30\\n02 * 04 = 08\\n01 * 04 = 04\\n03 * 06 = 18\\n04 * 09 =',\n",
       " '04 * 09 = 36\\n02 * 02 = 04\\n04 * 06 = 24\\n01 * 09 = 09\\n00 * 02 = 00\\n04 * 01 = 04\\n01 * 06 = 06\\n00 * 09 = 00\\n02 * 04 = 08\\n09 * 06 = 54\\n00 * 09 =',\n",
       " '04 * 09 = 36\\n02 * 02 = 04\\n04 * 06 = 24\\n01 * 09 = 09\\n00 * 02 = 00\\n04 * 02 = 08\\n01 * 06 = 07\\n00 * 09 = 00\\n02 * 06 = 12\\n01 * 04 = 05\\n00 * 09 =',\n",
       " '04 * 09 = 36\\n02 * 02 = 04\\n04 * 06 = 24\\n01 * 09 = 09\\n00 * 02 = 00\\n04 * 03 = 12\\n01 * 06 = 06\\n00 * 09 = 00\\n02 * 04 = 08\\n01 * 12 = 01\\n00 * 12 =',\n",
       " '04 * 09 = 36\\n02 * 02 = 04\\n04 * 06 = 24\\n01 * 09 = 09\\n00 * 02 = 00\\n04 * 04 = 16\\n01 * 06 = 06\\n00 * 09 = 00\\n\\nSo, the first row is the sum of the first column, the second',\n",
       " '04 * 09 = 36\\n02 * 02 = 04\\n04 * 06 = 24\\n01 * 09 = 09\\n00 * 02 = 00\\n04 * 05 = 20\\n01 * 06 = 06\\n00 * 09 = 00\\n02 * 02 = 04\\n04 * 06 = 24\\n01 * 09 =']"
      ]
     },
     "execution_count": 39,
     "metadata": {},
     "output_type": "execute_result"
    }
   ],
   "source": [
    "prediction"
   ]
  },
  {
   "cell_type": "code",
   "execution_count": 31,
   "metadata": {},
   "outputs": [],
   "source": [
    "inputs = tokenizer([test_prompt, test_prompt], return_tensors=\"pt\").input_ids.to(device)\n",
    "outputs = model.generate(inputs, max_length=64, do_sample=False)\n",
    "prediction = tokenizer.decode(outputs[0], skip_special_tokens=True)[len(test_prompt)+1:len(test_prompt)+1+max_num_len]"
   ]
  },
  {
   "cell_type": "code",
   "execution_count": 33,
   "metadata": {},
   "outputs": [
    {
     "data": {
      "text/plain": [
       "tensor([[ 2125,   475, 15630,   426,  5540,   187,  2640,   475, 16261,   426,\n",
       "         16703,   187,  2125,   475, 17796,   426,  2164,   187,   520,   475,\n",
       "         15630,   426, 15630,   187,   361,   475, 16261,   426,  7449,   187,\n",
       "          2693,   475, 15630,   426, 11681,   187,   361,   475, 17796,   426,\n",
       "          7449,   187,   361,   475, 16703,   426,  7449,   187,   361,   475,\n",
       "         17272,   426,  7449,   187,   361,   475, 16261,   426,  7449,   187,\n",
       "           361,   475, 14805,   426],\n",
       "        [ 2125,   475, 15630,   426,  5540,   187,  2640,   475, 16261,   426,\n",
       "         16703,   187,  2125,   475, 17796,   426,  2164,   187,   520,   475,\n",
       "         15630,   426, 15630,   187,   361,   475, 16261,   426,  7449,   187,\n",
       "          2693,   475, 15630,   426, 11681,   187,   361,   475, 17796,   426,\n",
       "          7449,   187,   361,   475, 16703,   426,  7449,   187,   361,   475,\n",
       "         17272,   426,  7449,   187,   361,   475, 16261,   426,  7449,   187,\n",
       "           361,   475, 14805,   426]], device='cuda:0')"
      ]
     },
     "execution_count": 33,
     "metadata": {},
     "output_type": "execute_result"
    }
   ],
   "source": [
    "outputs"
   ]
  },
  {
   "cell_type": "code",
   "execution_count": 47,
   "metadata": {},
   "outputs": [
    {
     "data": {
      "text/plain": [
       "'12'"
      ]
     },
     "execution_count": 47,
     "metadata": {},
     "output_type": "execute_result"
    }
   ],
   "source": [
    "prediction[len(test_prompt)+1:len(test_prompt)+1+max_num_len]"
   ]
  },
  {
   "cell_type": "code",
   "execution_count": 36,
   "metadata": {},
   "outputs": [
    {
     "data": {
      "text/plain": [
       "'08 * 07 = 56\\n03 * 04 = 12\\n07 * 05 = 35\\n08 * 01 = 8\\n09 * 08 = 72\\n04'"
      ]
     },
     "execution_count": 36,
     "metadata": {},
     "output_type": "execute_result"
    }
   ],
   "source": [
    "test_prompt"
   ]
  },
  {
   "cell_type": "code",
   "execution_count": 7,
   "metadata": {},
   "outputs": [
    {
     "name": "stderr",
     "output_type": "stream",
     "text": [
      "Setting `pad_token_id` to `eos_token_id`:0 for open-end generation.\n"
     ]
    },
    {
     "name": "stdout",
     "output_type": "stream",
     "text": [
      "5*5=25 because 5*3=15 and 5*2=10.\n",
      "4*8=32 because 4*4=16 and 4*4=16.\n",
      "3*9=27 because 3*5=15 and 3*4=12.\n",
      "3*5=15 because 3*5=15 and 3*5=15.\n",
      "4*5=20 because 4*2=8 and 4*4=16.\n",
      "4*4=16 because 4*2=8 and\n"
     ]
    }
   ],
   "source": [
    "inputs = tokenizer(prompt, return_tensors=\"pt\").to(device)\n",
    "tokens = model.generate(\n",
    "  **inputs,\n",
    "  max_new_tokens=64,\n",
    "  temperature=0.75,\n",
    "  top_p=0.95,\n",
    "  do_sample=True,\n",
    ")\n",
    "print(tokenizer.decode(tokens[0], skip_special_tokens=True))\n"
   ]
  }
 ],
 "metadata": {
  "kernelspec": {
   "display_name": "base",
   "language": "python",
   "name": "python3"
  },
  "language_info": {
   "codemirror_mode": {
    "name": "ipython",
    "version": 3
   },
   "file_extension": ".py",
   "mimetype": "text/x-python",
   "name": "python",
   "nbconvert_exporter": "python",
   "pygments_lexer": "ipython3",
   "version": "3.10.12"
  }
 },
 "nbformat": 4,
 "nbformat_minor": 2
}
