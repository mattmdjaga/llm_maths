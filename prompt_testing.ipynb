{
 "cells": [
  {
   "cell_type": "code",
   "execution_count": 15,
   "metadata": {},
   "outputs": [
    {
     "data": {
      "text/plain": [
       "StableLMEpochForCausalLM(\n",
       "  (model): StableLMEpochModel(\n",
       "    (embed_tokens): Embedding(50304, 2560)\n",
       "    (layers): ModuleList(\n",
       "      (0-31): 32 x DecoderLayer(\n",
       "        (self_attn): Attention(\n",
       "          (q_proj): Linear(in_features=2560, out_features=2560, bias=False)\n",
       "          (k_proj): Linear(in_features=2560, out_features=2560, bias=False)\n",
       "          (v_proj): Linear(in_features=2560, out_features=2560, bias=False)\n",
       "          (o_proj): Linear(in_features=2560, out_features=2560, bias=False)\n",
       "          (rotary_emb): RotaryEmbedding()\n",
       "        )\n",
       "        (mlp): MLP(\n",
       "          (gate_proj): Linear(in_features=2560, out_features=6912, bias=False)\n",
       "          (up_proj): Linear(in_features=2560, out_features=6912, bias=False)\n",
       "          (down_proj): Linear(in_features=6912, out_features=2560, bias=False)\n",
       "          (act_fn): SiLU()\n",
       "        )\n",
       "        (input_layernorm): LayerNorm((2560,), eps=1e-05, elementwise_affine=True)\n",
       "        (post_attention_layernorm): LayerNorm((2560,), eps=1e-05, elementwise_affine=True)\n",
       "      )\n",
       "    )\n",
       "    (norm): LayerNorm((2560,), eps=1e-05, elementwise_affine=True)\n",
       "  )\n",
       "  (lm_head): Linear(in_features=2560, out_features=50304, bias=False)\n",
       ")"
      ]
     },
     "execution_count": 15,
     "metadata": {},
     "output_type": "execute_result"
    }
   ],
   "source": [
    "from transformers import AutoModelForCausalLM, AutoTokenizer\n",
    "import torch\n",
    "\n",
    "device = \"cuda:0\"\n",
    "tokenizer = AutoTokenizer.from_pretrained(\"stabilityai/stablelm-3b-4e1t\")\n",
    "model = AutoModelForCausalLM.from_pretrained(\n",
    "  \"stabilityai/stablelm-3b-4e1t\",\n",
    "  trust_remote_code=True,\n",
    "  torch_dtype=torch.float16,\n",
    ")\n",
    "model.to(device)"
   ]
  },
  {
   "cell_type": "code",
   "execution_count": 5,
   "metadata": {},
   "outputs": [],
   "source": [
    "def zero_padding_multiplicatn(num_1: int, num_2: int, padding_size: int = 0, reverse: bool = False) -> str:\n",
    "    num_1 = str(num_1)\n",
    "    num_2 = str(num_2)\n",
    "    answer = int(num_1) * int(num_2)\n",
    "    num_1 = \"0\" * (padding_size - len(num_1)) + num_1 if padding_size else num_1\n",
    "    num_2 = \"0\" * (padding_size - len(num_2)) + num_2 if padding_size else num_2\n",
    "    answer = str(answer).reverse() if reverse else str(answer)\n",
    "    answer = \"0\" * (padding_size - len(answer)) + answer if padding_size else answer\n",
    "    return f\"{num_1} * {num_2} = {answer}\""
   ]
  },
  {
   "cell_type": "code",
   "execution_count": 8,
   "metadata": {},
   "outputs": [
    {
     "data": {
      "text/plain": [
       "'123 * 456 = 56088'"
      ]
     },
     "execution_count": 8,
     "metadata": {},
     "output_type": "execute_result"
    }
   ],
   "source": [
    "zero_padding_multiplicatn(123, 456, 0)"
   ]
  },
  {
   "cell_type": "code",
   "execution_count": 2,
   "metadata": {},
   "outputs": [
    {
     "data": {
      "text/plain": [
       "(9801, 10000)"
      ]
     },
     "execution_count": 2,
     "metadata": {},
     "output_type": "execute_result"
    }
   ],
   "source": [
    "99**2, 100**2"
   ]
  },
  {
   "cell_type": "code",
   "execution_count": 68,
   "metadata": {},
   "outputs": [
    {
     "name": "stdout",
     "output_type": "stream",
     "text": [
      "8 * 6 = 48\n",
      "3 * 9 = 27\n",
      "3 * 6 = 18\n",
      "7 * 4 = 28\n"
     ]
    }
   ],
   "source": [
    "import random\n",
    "\n",
    "max_num = 9\n",
    "max_num_len = len(str(max_num**2))\n",
    "eval_examples_padded = []\n",
    "for i in range(1, max_num + 1):\n",
    "    for j in range(1, max_num + 1):\n",
    "        eval_examples_padded.append(zero_padding_multiplicatn(i, j, max_num_len))\n",
    "\n",
    "eval_examples_base = []\n",
    "for i in range(1, max_num + 1):\n",
    "    for j in range(1, max_num + 1):\n",
    "        eval_examples_base.append(f\"{i} * {j} = {i * j}\")\n",
    "\n",
    "few_shot_num = 4\n",
    "random_examples = random.sample(eval_examples_base, few_shot_num)\n",
    "prompt = \"\\n\".join(random_examples)\n",
    "print(prompt)"
   ]
  },
  {
   "cell_type": "code",
   "execution_count": 50,
   "metadata": {},
   "outputs": [
    {
     "data": {
      "text/plain": [
       "['1 * 1 = 1', '1 * 2 = 2', '1 * 3 = 3', '1 * 4 = 4', '1 * 5 = 5']"
      ]
     },
     "execution_count": 50,
     "metadata": {},
     "output_type": "execute_result"
    }
   ],
   "source": [
    "eval_examples_base[:5]"
   ]
  },
  {
   "cell_type": "code",
   "execution_count": 28,
   "metadata": {},
   "outputs": [
    {
     "data": {
      "text/plain": [
       "'12'"
      ]
     },
     "execution_count": 28,
     "metadata": {},
     "output_type": "execute_result"
    }
   ],
   "source": [
    "eval_examples[0][-max_num_len:]"
   ]
  },
  {
   "cell_type": "code",
   "execution_count": 16,
   "metadata": {},
   "outputs": [],
   "source": [
    "from transformers.utils import logging\n",
    "\n",
    "logging.set_verbosity_error()"
   ]
  },
  {
   "cell_type": "code",
   "execution_count": 21,
   "metadata": {},
   "outputs": [
    {
     "data": {
      "text/plain": [
       "243"
      ]
     },
     "execution_count": 21,
     "metadata": {},
     "output_type": "execute_result"
    }
   ],
   "source": [
    "len(eval_examples)"
   ]
  },
  {
   "cell_type": "code",
   "execution_count": 80,
   "metadata": {},
   "outputs": [
    {
     "name": "stderr",
     "output_type": "stream",
     "text": [
      "100%|██████████| 3/3 [00:05<00:00,  1.69s/it]"
     ]
    },
    {
     "name": "stdout",
     "output_type": "stream",
     "text": [
      "Accuracy: 1.0\n"
     ]
    },
    {
     "name": "stderr",
     "output_type": "stream",
     "text": [
      "\n"
     ]
    }
   ],
   "source": [
    "from tqdm import tqdm\n",
    "answers = []\n",
    "batch_size = 32\n",
    "for i in tqdm(range(0, len(eval_examples_padded), batch_size)):\n",
    "    queries = eval_examples_base[i:i+batch_size]\n",
    "    test_prompts = [prompt + \"\\n\" + query.split(\"=\")[0] + \"=\" for query in queries]\n",
    "    truths = [query[-max_num_len:].strip() for query in queries]\n",
    "\n",
    "    inputs = tokenizer(test_prompts, return_tensors=\"pt\").input_ids.to(device)\n",
    "    outputs = model.generate(inputs, max_length=64, do_sample=False)\n",
    "    prediction = tokenizer.batch_decode(outputs, skip_special_tokens=True)#[len(test_prompt)+1:len(test_prompt)+1+max_num_len]\n",
    "    predictions = [p.split(\"\\n\")[few_shot_num].split(\"=\")[1].strip()  for p in prediction]\n",
    "    #predictions = [p.split().strip() for p in prediction]\n",
    "    for pred, truth in zip(predictions, truths):\n",
    "        answers.append(int(pred == truth))\n",
    "    #print(f\"Test Prompt: {example}\")\n",
    "    #print(f\"Prediction: {prediction}\")\n",
    "    #print(f\"Truth: {truth}\")\n",
    "    #answers.append(int(prediction == truth))\n",
    "print(f\"Accuracy: {sum(answers)/len(answers)}\")"
   ]
  },
  {
   "cell_type": "code",
   "execution_count": 78,
   "metadata": {},
   "outputs": [
    {
     "data": {
      "text/plain": [
       "['1',\n",
       " '2',\n",
       " '3',\n",
       " '4',\n",
       " '5',\n",
       " '6',\n",
       " '7',\n",
       " '8',\n",
       " '9',\n",
       " '2',\n",
       " '4',\n",
       " '6',\n",
       " '8',\n",
       " '10',\n",
       " '12',\n",
       " '14',\n",
       " '16',\n",
       " '18',\n",
       " '3',\n",
       " '6',\n",
       " '9',\n",
       " '12',\n",
       " '15',\n",
       " '18',\n",
       " '21',\n",
       " '24',\n",
       " '27',\n",
       " '4',\n",
       " '8',\n",
       " '12',\n",
       " '16',\n",
       " '20']"
      ]
     },
     "execution_count": 78,
     "metadata": {},
     "output_type": "execute_result"
    }
   ],
   "source": [
    "predictions = [p.split(\"\\n\")[few_shot_num].split(\"=\")[1].strip() for p in prediction]\n",
    "predictions"
   ]
  },
  {
   "cell_type": "code",
   "execution_count": 63,
   "metadata": {},
   "outputs": [
    {
     "data": {
      "text/plain": [
       "['1 * 1 ', ' 1']"
      ]
     },
     "execution_count": 63,
     "metadata": {},
     "output_type": "execute_result"
    }
   ],
   "source": [
    "queries[0].split(\"=\")"
   ]
  },
  {
   "cell_type": "code",
   "execution_count": 61,
   "metadata": {},
   "outputs": [
    {
     "data": {
      "text/plain": [
       "['1 * 6 = 6\\n6 * 7 = 42\\n8 * 9 = 72\\n5 * 7 = 35\\n1 * 1 ',\n",
       " '1 * 6 = 6\\n6 * 7 = 42\\n8 * 9 = 72\\n5 * 7 = 35\\n1 * 2 ',\n",
       " '1 * 6 = 6\\n6 * 7 = 42\\n8 * 9 = 72\\n5 * 7 = 35\\n1 * 3 ',\n",
       " '1 * 6 = 6\\n6 * 7 = 42\\n8 * 9 = 72\\n5 * 7 = 35\\n1 * 4 ',\n",
       " '1 * 6 = 6\\n6 * 7 = 42\\n8 * 9 = 72\\n5 * 7 = 35\\n1 * 5 ',\n",
       " '1 * 6 = 6\\n6 * 7 = 42\\n8 * 9 = 72\\n5 * 7 = 35\\n1 * 6 ',\n",
       " '1 * 6 = 6\\n6 * 7 = 42\\n8 * 9 = 72\\n5 * 7 = 35\\n1 * 7 ',\n",
       " '1 * 6 = 6\\n6 * 7 = 42\\n8 * 9 = 72\\n5 * 7 = 35\\n1 * 8 ',\n",
       " '1 * 6 = 6\\n6 * 7 = 42\\n8 * 9 = 72\\n5 * 7 = 35\\n1 * 9 ',\n",
       " '1 * 6 = 6\\n6 * 7 = 42\\n8 * 9 = 72\\n5 * 7 = 35\\n2 * 1 ',\n",
       " '1 * 6 = 6\\n6 * 7 = 42\\n8 * 9 = 72\\n5 * 7 = 35\\n2 * 2 ',\n",
       " '1 * 6 = 6\\n6 * 7 = 42\\n8 * 9 = 72\\n5 * 7 = 35\\n2 * 3 ',\n",
       " '1 * 6 = 6\\n6 * 7 = 42\\n8 * 9 = 72\\n5 * 7 = 35\\n2 * 4 ',\n",
       " '1 * 6 = 6\\n6 * 7 = 42\\n8 * 9 = 72\\n5 * 7 = 35\\n2 * 5 =',\n",
       " '1 * 6 = 6\\n6 * 7 = 42\\n8 * 9 = 72\\n5 * 7 = 35\\n2 * 6 =',\n",
       " '1 * 6 = 6\\n6 * 7 = 42\\n8 * 9 = 72\\n5 * 7 = 35\\n2 * 7 =',\n",
       " '1 * 6 = 6\\n6 * 7 = 42\\n8 * 9 = 72\\n5 * 7 = 35\\n2 * 8 =',\n",
       " '1 * 6 = 6\\n6 * 7 = 42\\n8 * 9 = 72\\n5 * 7 = 35\\n2 * 9 =',\n",
       " '1 * 6 = 6\\n6 * 7 = 42\\n8 * 9 = 72\\n5 * 7 = 35\\n3 * 1 ',\n",
       " '1 * 6 = 6\\n6 * 7 = 42\\n8 * 9 = 72\\n5 * 7 = 35\\n3 * 2 ',\n",
       " '1 * 6 = 6\\n6 * 7 = 42\\n8 * 9 = 72\\n5 * 7 = 35\\n3 * 3 ',\n",
       " '1 * 6 = 6\\n6 * 7 = 42\\n8 * 9 = 72\\n5 * 7 = 35\\n3 * 4 =',\n",
       " '1 * 6 = 6\\n6 * 7 = 42\\n8 * 9 = 72\\n5 * 7 = 35\\n3 * 5 =',\n",
       " '1 * 6 = 6\\n6 * 7 = 42\\n8 * 9 = 72\\n5 * 7 = 35\\n3 * 6 =',\n",
       " '1 * 6 = 6\\n6 * 7 = 42\\n8 * 9 = 72\\n5 * 7 = 35\\n3 * 7 =',\n",
       " '1 * 6 = 6\\n6 * 7 = 42\\n8 * 9 = 72\\n5 * 7 = 35\\n3 * 8 =',\n",
       " '1 * 6 = 6\\n6 * 7 = 42\\n8 * 9 = 72\\n5 * 7 = 35\\n3 * 9 =',\n",
       " '1 * 6 = 6\\n6 * 7 = 42\\n8 * 9 = 72\\n5 * 7 = 35\\n4 * 1 ',\n",
       " '1 * 6 = 6\\n6 * 7 = 42\\n8 * 9 = 72\\n5 * 7 = 35\\n4 * 2 ',\n",
       " '1 * 6 = 6\\n6 * 7 = 42\\n8 * 9 = 72\\n5 * 7 = 35\\n4 * 3 =',\n",
       " '1 * 6 = 6\\n6 * 7 = 42\\n8 * 9 = 72\\n5 * 7 = 35\\n4 * 4 =',\n",
       " '1 * 6 = 6\\n6 * 7 = 42\\n8 * 9 = 72\\n5 * 7 = 35\\n4 * 5 =']"
      ]
     },
     "execution_count": 61,
     "metadata": {},
     "output_type": "execute_result"
    }
   ],
   "source": [
    "test_prompts"
   ]
  },
  {
   "cell_type": "code",
   "execution_count": 59,
   "metadata": {},
   "outputs": [
    {
     "data": {
      "text/plain": [
       "['1 * 6 = 6\\n6 * 7 = 42\\n8 * 9 = 72\\n5 * 7 = 35\\n1 * 1 \\n1 * 2 \\n1 * 3 \\n1 * 4 \\n1 * 5 \\n1 * 6 \\n1 * 7 \\n1 * 8 \\n',\n",
       " '1 * 6 = 6\\n6 * 7 = 42\\n8 * 9 = 72\\n5 * 7 = 35\\n1 * 2 \\n2 * 3 = 6\\n3 * 4 = 12\\n4 * 5 = 20\\n5 * 6 = 30\\n6 * 7 = 42\\n7 * 8 = 56',\n",
       " '1 * 6 = 6\\n6 * 7 = 42\\n8 * 9 = 72\\n5 * 7 = 35\\n1 * 3 \\n1 * 4 = 4\\n1 * 5 = 5\\n1 * 6 = 6\\n1 * 7 = 7\\n1 * 8 = 8\\n1 * 9 = 9',\n",
       " '1 * 6 = 6\\n6 * 7 = 42\\n8 * 9 = 72\\n5 * 7 = 35\\n1 * 4 \\n1 * 3 = 3\\n1 * 2 = 2\\n1 * 1 = 1\\n\\nA: You can use the following code:\\npublic static int[][] multiply',\n",
       " '1 * 6 = 6\\n6 * 7 = 42\\n8 * 9 = 72\\n5 * 7 = 35\\n1 * 5 \\n1 * 6 = 6\\n6 * 7 = 42\\n8 * 9 = 72\\n5 * 7 = 35\\n1 * 5 \\n1 * 6 = 6\\n',\n",
       " '1 * 6 = 6\\n6 * 7 = 42\\n8 * 9 = 72\\n5 * 7 = 35\\n1 * 6 \\n1 * 7 \\n1 * 8 \\n1 * 9 \\n2 * 6 \\n2 * 7 \\n2 * 8 \\n2 * 9 \\n',\n",
       " '1 * 6 = 6\\n6 * 7 = 42\\n8 * 9 = 72\\n5 * 7 = 35\\n1 * 7 \\n1 * 8 = 8\\n1 * 9 = 9\\n1 * 10 = 10\\n1 * 11 = 11\\n1 * 12 = 12\\n1 * 13 = 13',\n",
       " '1 * 6 = 6\\n6 * 7 = 42\\n8 * 9 = 72\\n5 * 7 = 35\\n1 * 8 \\n1 * 9 = 9\\n1 * 10 = 10\\n1 * 11 = 11\\n1 * 12 = 12\\n1 * 13 = 13\\n1 * 14 = 14',\n",
       " '1 * 6 = 6\\n6 * 7 = 42\\n8 * 9 = 72\\n5 * 7 = 35\\n1 * 9 \\n1 * 8 = 8\\n1 * 7 = 7\\n1 * 6 = 6\\n1 * 5 = 5\\n1 * 4 = 4\\n1 * 3 = 3',\n",
       " '1 * 6 = 6\\n6 * 7 = 42\\n8 * 9 = 72\\n5 * 7 = 35\\n2 * 1 \\n* 6 = 12\\n\\n*\\n\\n*6 * 7 = 42\\n\\n*8 * 9 = 72\\n\\n*5 * 7 = 35\\n\\n*2',\n",
       " '1 * 6 = 6\\n6 * 7 = 42\\n8 * 9 = 72\\n5 * 7 = 35\\n2 * 2 \\n2 * 3 = 6\\n3 * 4 = 12\\n4 * 5 = 20\\n5 * 6 = 30\\n6 * 7 = 42\\n7 * 8 = 56',\n",
       " '1 * 6 = 6\\n6 * 7 = 42\\n8 * 9 = 72\\n5 * 7 = 35\\n2 * 3 \\n2 * 4 = 8\\n3 * 5 = 15\\n4 * 6 = 24\\n5 * 7 = 35\\n6 * 8 = 48\\n7 * 9 = 63',\n",
       " '1 * 6 = 6\\n6 * 7 = 42\\n8 * 9 = 72\\n5 * 7 = 35\\n2 * 4 \\n2 * 3 = 6\\n3 * 2 = 6\\n2 * 1 = 2\\n1 * 1 = 1\\n\\nA: You can use the following code:\\n',\n",
       " '1 * 6 = 6\\n6 * 7 = 42\\n8 * 9 = 72\\n5 * 7 = 35\\n2 * 5 = 10\\n3 * 6 = 18\\n4 * 7 = 28\\n9 * 9 = 81\\n7 * 7 = 49\\n5 * 6 = 30\\n3 * 5 =',\n",
       " '1 * 6 = 6\\n6 * 7 = 42\\n8 * 9 = 72\\n5 * 7 = 35\\n2 * 6 = 12\\n3 * 7 = 21\\n4 * 8 = 32\\n1 * 9 = 9\\n7 * 9 = 63\\n5 * 8 = 40\\n3 * 7 =',\n",
       " '1 * 6 = 6\\n6 * 7 = 42\\n8 * 9 = 72\\n5 * 7 = 35\\n2 * 7 = 14\\n3 * 6 = 18\\n4 * 7 = 28\\n7 * 8 = 56\\n5 * 8 = 40\\n3 * 8 = 24\\n6 * 9 =',\n",
       " '1 * 6 = 6\\n6 * 7 = 42\\n8 * 9 = 72\\n5 * 7 = 35\\n2 * 8 = 16\\n3 * 9 = 27\\n4 * 7 = 28\\n1 * 8 = 8\\n7 * 6 = 42\\n9 * 5 = 45\\n6 * 8 =',\n",
       " '1 * 6 = 6\\n6 * 7 = 42\\n8 * 9 = 72\\n5 * 7 = 35\\n2 * 9 = 18\\n3 * 6 = 18\\n4 * 7 = 28\\n7 * 9 = 63\\n5 * 8 = 40\\n6 * 8 = 48\\n7 * 8 =',\n",
       " '1 * 6 = 6\\n6 * 7 = 42\\n8 * 9 = 72\\n5 * 7 = 35\\n3 * 1 \\n* 6 = 18\\n\\n*\\n\\n*6 * 7 = 42\\n\\n*8 * 9 = 72\\n\\n*5 * 7 = 35\\n\\n*3',\n",
       " '1 * 6 = 6\\n6 * 7 = 42\\n8 * 9 = 72\\n5 * 7 = 35\\n3 * 2 \\n* 6 = 18\\n\\n*\\n\\n*6 * 7 = 42\\n\\n*8 * 9 = 72\\n\\n*5 * 7 = 35\\n\\n*3',\n",
       " '1 * 6 = 6\\n6 * 7 = 42\\n8 * 9 = 72\\n5 * 7 = 35\\n3 * 3 \\n3 * 3 = 9\\n3 * 3 = 9\\n3 * 3 = 9\\n3 * 3 = 9\\n3 * 3 = 9\\n3 * 3 = 9',\n",
       " '1 * 6 = 6\\n6 * 7 = 42\\n8 * 9 = 72\\n5 * 7 = 35\\n3 * 4 = 12\\n2 * 5 = 10\\n1 * 6 = 6\\n6 * 7 = 42\\n8 * 9 = 72\\n5 * 7 = 35\\n3 * 4 =',\n",
       " '1 * 6 = 6\\n6 * 7 = 42\\n8 * 9 = 72\\n5 * 7 = 35\\n3 * 5 = 15\\n2 * 6 = 12\\n1 * 7 = 7\\n\\nSo, the answer is 7.\\n\\nA: The answer is 7.\\nThe first step is',\n",
       " '1 * 6 = 6\\n6 * 7 = 42\\n8 * 9 = 72\\n5 * 7 = 35\\n3 * 6 = 18\\n2 * 7 = 14\\n1 * 8 = 8\\n2 * 9 = 18\\n3 * 7 = 21\\n4 * 6 = 24\\n5 * 8 =',\n",
       " '1 * 6 = 6\\n6 * 7 = 42\\n8 * 9 = 72\\n5 * 7 = 35\\n3 * 7 = 21\\n2 * 7 = 14\\n1 * 7 = 7\\n7 * 8 = 56\\n8 * 9 = 72\\n5 * 8 = 40\\n3 * 8 =',\n",
       " '1 * 6 = 6\\n6 * 7 = 42\\n8 * 9 = 72\\n5 * 7 = 35\\n3 * 8 = 24\\n2 * 9 = 18\\n1 * 7 = 7\\n1 * 6 = 6\\n6 * 7 = 42\\n8 * 9 = 72\\n5 * 7 =',\n",
       " '1 * 6 = 6\\n6 * 7 = 42\\n8 * 9 = 72\\n5 * 7 = 35\\n3 * 9 = 27\\n2 * 6 = 12\\n1 * 7 = 7\\n\\nSo, the answer is 7.\\n\\nA: The answer is 7.\\nThe first step is',\n",
       " '1 * 6 = 6\\n6 * 7 = 42\\n8 * 9 = 72\\n5 * 7 = 35\\n4 * 1 \\n* 6 = 24\\n\\n*\\n\\n*6 * 7 = 42\\n\\n*8 * 9 = 72\\n\\n*5 * 7 = 35\\n\\n*4',\n",
       " '1 * 6 = 6\\n6 * 7 = 42\\n8 * 9 = 72\\n5 * 7 = 35\\n4 * 2 \\n* 3 = 12\\n\\n*\\n\\n*The first number is the number of times the number is multiplied by the second number.\\n\\n*The second number is the',\n",
       " '1 * 6 = 6\\n6 * 7 = 42\\n8 * 9 = 72\\n5 * 7 = 35\\n4 * 3 = 12\\n3 * 5 = 15\\n2 * 6 = 12\\n1 * 7 = 7\\n\\nSo, the answer is 7.\\n\\nA: The answer is 7',\n",
       " '1 * 6 = 6\\n6 * 7 = 42\\n8 * 9 = 72\\n5 * 7 = 35\\n4 * 4 = 16\\n3 * 3 = 9\\n2 * 2 = 4\\n1 * 1 = 1\\n\\nSo, the answer is 1.\\n\\nA: The answer is 1',\n",
       " '1 * 6 = 6\\n6 * 7 = 42\\n8 * 9 = 72\\n5 * 7 = 35\\n4 * 5 = 20\\n3 * 6 = 18\\n2 * 7 = 14\\n1 * 8 = 8\\n\\nSo, the answer is 8.\\n\\nA: The answer is 8']"
      ]
     },
     "execution_count": 59,
     "metadata": {},
     "output_type": "execute_result"
    }
   ],
   "source": [
    "prediction"
   ]
  },
  {
   "cell_type": "code",
   "execution_count": null,
   "metadata": {},
   "outputs": [],
   "source": []
  }
 ],
 "metadata": {
  "kernelspec": {
   "display_name": "base",
   "language": "python",
   "name": "python3"
  },
  "language_info": {
   "codemirror_mode": {
    "name": "ipython",
    "version": 3
   },
   "file_extension": ".py",
   "mimetype": "text/x-python",
   "name": "python",
   "nbconvert_exporter": "python",
   "pygments_lexer": "ipython3",
   "version": "3.10.12"
  }
 },
 "nbformat": 4,
 "nbformat_minor": 2
}
