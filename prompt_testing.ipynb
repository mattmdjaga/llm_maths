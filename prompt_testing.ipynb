{
 "cells": [
  {
   "cell_type": "code",
   "execution_count": 1,
   "metadata": {},
   "outputs": [
    {
     "data": {
      "text/plain": [
       "StableLMEpochForCausalLM(\n",
       "  (model): StableLMEpochModel(\n",
       "    (embed_tokens): Embedding(50304, 2560)\n",
       "    (layers): ModuleList(\n",
       "      (0-31): 32 x DecoderLayer(\n",
       "        (self_attn): Attention(\n",
       "          (q_proj): Linear(in_features=2560, out_features=2560, bias=False)\n",
       "          (k_proj): Linear(in_features=2560, out_features=2560, bias=False)\n",
       "          (v_proj): Linear(in_features=2560, out_features=2560, bias=False)\n",
       "          (o_proj): Linear(in_features=2560, out_features=2560, bias=False)\n",
       "          (rotary_emb): RotaryEmbedding()\n",
       "        )\n",
       "        (mlp): MLP(\n",
       "          (gate_proj): Linear(in_features=2560, out_features=6912, bias=False)\n",
       "          (up_proj): Linear(in_features=2560, out_features=6912, bias=False)\n",
       "          (down_proj): Linear(in_features=6912, out_features=2560, bias=False)\n",
       "          (act_fn): SiLU()\n",
       "        )\n",
       "        (input_layernorm): LayerNorm((2560,), eps=1e-05, elementwise_affine=True)\n",
       "        (post_attention_layernorm): LayerNorm((2560,), eps=1e-05, elementwise_affine=True)\n",
       "      )\n",
       "    )\n",
       "    (norm): LayerNorm((2560,), eps=1e-05, elementwise_affine=True)\n",
       "  )\n",
       "  (lm_head): Linear(in_features=2560, out_features=50304, bias=False)\n",
       ")"
      ]
     },
     "execution_count": 1,
     "metadata": {},
     "output_type": "execute_result"
    }
   ],
   "source": [
    "from transformers import AutoModelForCausalLM, AutoTokenizer\n",
    "import torch\n",
    "\n",
    "device = \"cuda:0\"\n",
    "tokenizer = AutoTokenizer.from_pretrained(\"stabilityai/stablelm-3b-4e1t\")\n",
    "model = AutoModelForCausalLM.from_pretrained(\n",
    "  \"stabilityai/stablelm-3b-4e1t\",\n",
    "  trust_remote_code=True,\n",
    "  torch_dtype=torch.float16,\n",
    ")\n",
    "model.to(device)"
   ]
  },
  {
   "cell_type": "code",
   "execution_count": 11,
   "metadata": {},
   "outputs": [],
   "source": [
    "def zero_padding_multiplicatn(num_1: int, num_2: int, padding_size: int = 0, reverse: bool = False) -> str:\n",
    "    num_1 = str(num_1)\n",
    "    num_2 = str(num_2)\n",
    "    answer = int(num_1) * int(num_2)\n",
    "    num_1 = \"0\" * (padding_size - len(num_1)) + num_1\n",
    "    num_2 = \"0\" * (padding_size - len(num_2)) + num_2\n",
    "    answer = str(answer).reverse() if reverse else str(answer)\n",
    "    return f\"{num_1} * {num_2} = {answer}\""
   ]
  },
  {
   "cell_type": "code",
   "execution_count": 10,
   "metadata": {},
   "outputs": [
    {
     "data": {
      "text/plain": [
       "'000123 * 000456 = 56088'"
      ]
     },
     "execution_count": 10,
     "metadata": {},
     "output_type": "execute_result"
    }
   ],
   "source": [
    "zero_padding_multiplicatn(123, 456, 6)"
   ]
  },
  {
   "cell_type": "code",
   "execution_count": 23,
   "metadata": {},
   "outputs": [
    {
     "name": "stdout",
     "output_type": "stream",
     "text": [
      "08 * 07 = 56\n",
      "03 * 04 = 12\n",
      "07 * 05 = 35\n",
      "08 * 01 = 8\n",
      "09 * 08 = 72\n"
     ]
    }
   ],
   "source": [
    "import random\n",
    "\n",
    "max_num = 9\n",
    "max_num_len = len(str(max_num**2))\n",
    "eval_examples = []\n",
    "for _ in range(20):\n",
    "    num_1 = random.randint(0, max_num)\n",
    "    num_2 = random.randint(0, max_num)\n",
    "    eval_examples.append(zero_padding_multiplicatn(num_1, num_2, max_num_len))\n",
    "few_shot_examples = []\n",
    "few_shot_num = 5\n",
    "for _ in range(few_shot_num):\n",
    "    num_1 = random.randint(0, max_num)\n",
    "    num_2 = random.randint(0, max_num)\n",
    "    few_shot_examples.append(zero_padding_multiplicatn(num_1, num_2, max_num_len))\n",
    "prompt = \"\\n\".join(few_shot_examples)\n",
    "print(prompt)"
   ]
  },
  {
   "cell_type": "code",
   "execution_count": 28,
   "metadata": {},
   "outputs": [
    {
     "data": {
      "text/plain": [
       "'12'"
      ]
     },
     "execution_count": 28,
     "metadata": {},
     "output_type": "execute_result"
    }
   ],
   "source": [
    "eval_examples[0][-max_num_len:]"
   ]
  },
  {
   "cell_type": "code",
   "execution_count": 55,
   "metadata": {},
   "outputs": [],
   "source": [
    "from transformers.utils import logging\n",
    "\n",
    "logging.set_verbosity_error()"
   ]
  },
  {
   "cell_type": "code",
   "execution_count": 59,
   "metadata": {},
   "outputs": [
    {
     "name": "stdout",
     "output_type": "stream",
     "text": [
      "Test Prompt: 04 * 03 = 12\n",
      "Prediction: 12\n",
      "Truth: 12\n",
      "Test Prompt: 00 * 07 = 0\n",
      "Prediction: 01\n",
      "Truth:  0\n",
      "Test Prompt: 04 * 03 = 12\n",
      "Prediction: 12\n",
      "Truth: 12\n",
      "Test Prompt: 07 * 09 = 63\n",
      "Prediction: 63\n",
      "Truth: 63\n",
      "Test Prompt: 05 * 04 = 20\n",
      "Prediction: 20\n",
      "Truth: 20\n",
      "Test Prompt: 04 * 02 = 8\n",
      "Prediction: 05\n",
      "Truth:  8\n",
      "Test Prompt: 01 * 03 = 3\n",
      "Prediction: 02\n",
      "Truth:  3\n",
      "Test Prompt: 00 * 04 = 0\n",
      "Prediction: 01\n",
      "Truth:  0\n",
      "Test Prompt: 05 * 09 = 45\n",
      "Prediction: 45\n",
      "Truth: 45\n",
      "Test Prompt: 04 * 09 = 36\n",
      "Prediction: 36\n",
      "Truth: 36\n",
      "Test Prompt: 05 * 01 = 5\n",
      "Prediction: = \n",
      "Truth:  5\n",
      "Test Prompt: 05 * 09 = 45\n",
      "Prediction: 45\n",
      "Truth: 45\n",
      "Test Prompt: 06 * 05 = 30\n",
      "Prediction: 30\n",
      "Truth: 30\n",
      "Test Prompt: 06 * 02 = 12\n",
      "Prediction: 12\n",
      "Truth: 12\n",
      "Test Prompt: 07 * 00 = 0\n",
      "Prediction: 10\n",
      "Truth:  0\n",
      "Test Prompt: 05 * 05 = 25\n",
      "Prediction: 25\n",
      "Truth: 25\n",
      "Test Prompt: 07 * 00 = 0\n",
      "Prediction: 10\n",
      "Truth:  0\n",
      "Test Prompt: 07 * 08 = 56\n",
      "Prediction: 56\n",
      "Truth: 56\n",
      "Test Prompt: 01 * 07 = 7\n",
      "Prediction: 02\n",
      "Truth:  7\n",
      "Test Prompt: 04 * 08 = 32\n",
      "Prediction: 32\n",
      "Truth: 32\n",
      "Accuracy: 0.6\n"
     ]
    }
   ],
   "source": [
    "answers = []\n",
    "for example in eval_examples:\n",
    "    test_prompt = prompt + \"\\n\" + example[:-max_num_len-1]\n",
    "    truth = example[-max_num_len:]\n",
    "    inputs = tokenizer(test_prompt, return_tensors=\"pt\").input_ids.to(device)\n",
    "    outputs = model.generate(inputs, max_length=64, do_sample=False)\n",
    "    prediction = tokenizer.decode(outputs[0], skip_special_tokens=True)[len(test_prompt)+1:len(test_prompt)+1+max_num_len]\n",
    "    #print(f\"Test Prompt: {example}\")\n",
    "    #print(f\"Prediction: {prediction}\")\n",
    "    #print(f\"Truth: {truth}\")\n",
    "    answers.append(int(prediction == truth))\n",
    "print(f\"Accuracy: {sum(answers)/len(answers)}\")"
   ]
  },
  {
   "cell_type": "code",
   "execution_count": 47,
   "metadata": {},
   "outputs": [
    {
     "data": {
      "text/plain": [
       "'12'"
      ]
     },
     "execution_count": 47,
     "metadata": {},
     "output_type": "execute_result"
    }
   ],
   "source": [
    "prediction[len(test_prompt)+1:len(test_prompt)+1+max_num_len]"
   ]
  },
  {
   "cell_type": "code",
   "execution_count": 36,
   "metadata": {},
   "outputs": [
    {
     "data": {
      "text/plain": [
       "'08 * 07 = 56\\n03 * 04 = 12\\n07 * 05 = 35\\n08 * 01 = 8\\n09 * 08 = 72\\n04'"
      ]
     },
     "execution_count": 36,
     "metadata": {},
     "output_type": "execute_result"
    }
   ],
   "source": [
    "test_prompt"
   ]
  },
  {
   "cell_type": "code",
   "execution_count": 7,
   "metadata": {},
   "outputs": [
    {
     "name": "stderr",
     "output_type": "stream",
     "text": [
      "Setting `pad_token_id` to `eos_token_id`:0 for open-end generation.\n"
     ]
    },
    {
     "name": "stdout",
     "output_type": "stream",
     "text": [
      "5*5=25 because 5*3=15 and 5*2=10.\n",
      "4*8=32 because 4*4=16 and 4*4=16.\n",
      "3*9=27 because 3*5=15 and 3*4=12.\n",
      "3*5=15 because 3*5=15 and 3*5=15.\n",
      "4*5=20 because 4*2=8 and 4*4=16.\n",
      "4*4=16 because 4*2=8 and\n"
     ]
    }
   ],
   "source": [
    "inputs = tokenizer(prompt, return_tensors=\"pt\").to(device)\n",
    "tokens = model.generate(\n",
    "  **inputs,\n",
    "  max_new_tokens=64,\n",
    "  temperature=0.75,\n",
    "  top_p=0.95,\n",
    "  do_sample=True,\n",
    ")\n",
    "print(tokenizer.decode(tokens[0], skip_special_tokens=True))\n"
   ]
  }
 ],
 "metadata": {
  "kernelspec": {
   "display_name": "base",
   "language": "python",
   "name": "python3"
  },
  "language_info": {
   "codemirror_mode": {
    "name": "ipython",
    "version": 3
   },
   "file_extension": ".py",
   "mimetype": "text/x-python",
   "name": "python",
   "nbconvert_exporter": "python",
   "pygments_lexer": "ipython3",
   "version": "3.10.12"
  }
 },
 "nbformat": 4,
 "nbformat_minor": 2
}
